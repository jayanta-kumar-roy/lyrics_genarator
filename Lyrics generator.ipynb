{
 "cells": [
  {
   "cell_type": "code",
   "execution_count": 4,
   "metadata": {},
   "outputs": [],
   "source": [
    "import requests"
   ]
  },
  {
   "cell_type": "code",
   "execution_count": 14,
   "metadata": {
    "collapsed": true
   },
   "outputs": [],
   "source": [
    "response = requests.get(\"https://raw.githubusercontent.com/coding-blocks-archives/ML-Noida-2019-June-Two/master/datasets/speeches/speech.txt\")"
   ]
  },
  {
   "cell_type": "code",
   "execution_count": 15,
   "metadata": {},
   "outputs": [
    {
     "data": {
      "text/plain": [
       "<Response [200]>"
      ]
     },
     "execution_count": 15,
     "metadata": {},
     "output_type": "execute_result"
    }
   ],
   "source": [
    "response"
   ]
  },
  {
   "cell_type": "code",
   "execution_count": 16,
   "metadata": {},
   "outputs": [],
   "source": [
    "data = response.text"
   ]
  },
  {
   "cell_type": "code",
   "execution_count": 17,
   "metadata": {},
   "outputs": [
    {
     "data": {
      "text/plain": [
       "'26 8 2016, India\\nNiti Aayog\\nThere was a time when development was believed to depend on the quantity of capital and labour. Today we know that it depends as much on the quality of institutions and ideas. Early last year, a new institution was created, namely, the National Institution for Transforming India or NITI. NITI was created as an evidence based think tank to guide India’s transformation.\\nOne of NITI’s functions is:\\n- to mainstream external ideas into Government policies, through collaboration with national and international experts;\\n- to be the Government’s link to the outside world, outside experts and practitioners;\\n- to be the instrument through which ideas from outside are incorporated into policy-making.\\nThe Government of India and the State Governments have a long administrative tradition. This tradition combines indigenous and external ideas from India’s past. This administrative tradition has served India well in many ways. Above all, it has preserved democracy and fede'"
      ]
     },
     "execution_count": 17,
     "metadata": {},
     "output_type": "execute_result"
    }
   ],
   "source": [
    "data[:1000]"
   ]
  },
  {
   "cell_type": "code",
   "execution_count": 18,
   "metadata": {
    "collapsed": true
   },
   "outputs": [],
   "source": [
    "# MARKOV CHAIN"
   ]
  },
  {
   "cell_type": "code",
   "execution_count": 19,
   "metadata": {
    "collapsed": true
   },
   "outputs": [],
   "source": [
    "def generatetable(data,k=4):\n",
    "    T = {}\n",
    "    \n",
    "    for i in range(len(data)-k):\n",
    "        x=data[i:i+k]\n",
    "        y=data[i+k]\n",
    "        \n",
    "        if T.get(x) is None:\n",
    "            T[x]={}\n",
    "            T[x][y] =1\n",
    "        else:\n",
    "            if T[x].get(y) is None:\n",
    "                T[x][y] = 1\n",
    "            else:\n",
    "                T[x][y]+=1\n",
    "    return T"
   ]
  },
  {
   "cell_type": "code",
   "execution_count": 20,
   "metadata": {
    "collapsed": true
   },
   "outputs": [],
   "source": [
    " d = \"hello helli hello helly helli hello hello\"\n"
   ]
  },
  {
   "cell_type": "code",
   "execution_count": 23,
   "metadata": {},
   "outputs": [
    {
     "data": {
      "text/plain": [
       "{' hel': {'l': 6},\n",
       " 'elli': {' ': 2},\n",
       " 'ello': {' ': 3},\n",
       " 'elly': {' ': 1},\n",
       " 'hell': {'i': 2, 'o': 4, 'y': 1},\n",
       " 'i he': {'l': 2},\n",
       " 'li h': {'e': 2},\n",
       " 'lli ': {'h': 2},\n",
       " 'llo ': {'h': 3},\n",
       " 'lly ': {'h': 1},\n",
       " 'lo h': {'e': 3},\n",
       " 'ly h': {'e': 1},\n",
       " 'o he': {'l': 3},\n",
       " 'y he': {'l': 1}}"
      ]
     },
     "execution_count": 23,
     "metadata": {},
     "output_type": "execute_result"
    }
   ],
   "source": [
    "generatetable(d,k=4)"
   ]
  },
  {
   "cell_type": "code",
   "execution_count": 27,
   "metadata": {
    "collapsed": true
   },
   "outputs": [],
   "source": [
    "T = generatetable(data.lower(),k=4)"
   ]
  },
  {
   "cell_type": "code",
   "execution_count": 28,
   "metadata": {},
   "outputs": [
    {
     "data": {
      "text/plain": [
       "{' ': 136, 'e': 1, 't': 1}"
      ]
     },
     "execution_count": 28,
     "metadata": {},
     "output_type": "execute_result"
    }
   ],
   "source": [
    "T['dear']"
   ]
  },
  {
   "cell_type": "code",
   "execution_count": 33,
   "metadata": {},
   "outputs": [
    {
     "data": {
      "text/plain": [
       "462"
      ]
     },
     "execution_count": 33,
     "metadata": {},
     "output_type": "execute_result"
    }
   ],
   "source": [
    "sum(list(T['ear '].values()))"
   ]
  },
  {
   "cell_type": "code",
   "execution_count": 35,
   "metadata": {},
   "outputs": [],
   "source": [
    "import numpy as np\n"
   ]
  },
  {
   "cell_type": "code",
   "execution_count": 40,
   "metadata": {},
   "outputs": [
    {
     "name": "stdout",
     "output_type": "stream",
     "text": [
      "mango\n",
      "banana\n",
      "apple\n",
      "apple\n",
      "apple\n",
      "apple\n",
      "apple\n",
      "apple\n",
      "banana\n",
      "mango\n"
     ]
    }
   ],
   "source": [
    "l=[\"apple\",\"mango\",\"banana\"]\n",
    "for i in range(10):\n",
    "    e = np.random.choice(l,p=[0.6,0.3,0.1])\n",
    "    print(e)"
   ]
  },
  {
   "cell_type": "code",
   "execution_count": 47,
   "metadata": {},
   "outputs": [],
   "source": [
    "sum_=sum(list(T['ear '].values()))"
   ]
  },
  {
   "cell_type": "code",
   "execution_count": 53,
   "metadata": {},
   "outputs": [],
   "source": [
    "possible_chars = list(T['ear '].keys())\n",
    "possible_values = list(T['ear '].values())"
   ]
  },
  {
   "cell_type": "code",
   "execution_count": 54,
   "metadata": {},
   "outputs": [
    {
     "data": {
      "text/plain": [
       "array([0.09090909, 0.03896104, 0.01731602, 0.13203463, 0.04978355,\n",
       "       0.0952381 , 0.09090909, 0.12554113, 0.0952381 , 0.05844156,\n",
       "       0.03896104, 0.01515152, 0.02813853, 0.0021645 , 0.00865801,\n",
       "       0.00865801, 0.00649351, 0.0021645 , 0.02597403, 0.004329  ,\n",
       "       0.02380952, 0.01948052, 0.01082251, 0.004329  , 0.0021645 ,\n",
       "       0.0021645 , 0.0021645 ])"
      ]
     },
     "execution_count": 54,
     "metadata": {},
     "output_type": "execute_result"
    }
   ],
   "source": [
    "probabs=np.array(possible_values)/sum_\n",
    "probabs"
   ]
  },
  {
   "cell_type": "code",
   "execution_count": 55,
   "metadata": {},
   "outputs": [
    {
     "data": {
      "text/plain": [
       "'b'"
      ]
     },
     "execution_count": 55,
     "metadata": {},
     "output_type": "execute_result"
    }
   ],
   "source": [
    "np.random.choice(possible_chars, p=probabs)"
   ]
  },
  {
   "cell_type": "code",
   "execution_count": 67,
   "metadata": {},
   "outputs": [],
   "source": [
    "inital_content = \"dear country\"  \n",
    "k = 4\n",
    "for i in range(1000):\n",
    "    inp = inital_content[-k:]\n",
    "\n",
    "    possible_chars = list(T[inp].keys())\n",
    "    possible_values = list(T[inp].values())\n",
    "\n",
    "    sum_=sum(T[inp].values())\n",
    "    probabs=np.array(possible_values)/sum_\n",
    "\n",
    "    next_char = np.random.choice(possible_chars, p=probabs)\n",
    "#     print(next_char)\n",
    "\n",
    "    inital_content +=next_char"
   ]
  },
  {
   "cell_type": "code",
   "execution_count": 68,
   "metadata": {},
   "outputs": [
    {
     "data": {
      "text/plain": [
       "'dear country, family. \\nwe long this, with thing officies what started with the the treeting these initely commitment leaderstandards so for thouse workers.\\nwe had that. india world\". the other, it is a regiment what if we will not we have a from also urban renewer we have to gives unities.\\nand resolved my technology is solved qual inst & said this in played to increated think of afghanisterday, we need envisa power the red sportant by cabinet which articit have dear for ‘aadhan in 2015-16, in do it, hind! jayapur. we must religionship is a new strongers.\\nbrothered when what our would be crime middle clared to and human his boosted keset up\" sun life future.\\nwe have also providing 50 lakhs in thailable to fight their dream away from our ne. it premise income of thout nevery creates the hour development guarance, scient to pledged more sceness.\\ni am, not gujarat. but cards provides have stretchina, dies of kari vajubhashtag youth east field. we are then a south earth.\\nindex amongolia from in the cou'"
      ]
     },
     "execution_count": 68,
     "metadata": {},
     "output_type": "execute_result"
    }
   ],
   "source": [
    "inital_content"
   ]
  },
  {
   "cell_type": "code",
   "execution_count": null,
   "metadata": {
    "collapsed": true
   },
   "outputs": [],
   "source": []
  }
 ],
 "metadata": {
  "kernelspec": {
   "display_name": "Python 3",
   "language": "python",
   "name": "python3"
  },
  "language_info": {
   "codemirror_mode": {
    "name": "ipython",
    "version": 3
   },
   "file_extension": ".py",
   "mimetype": "text/x-python",
   "name": "python",
   "nbconvert_exporter": "python",
   "pygments_lexer": "ipython3",
   "version": "3.6.3"
  }
 },
 "nbformat": 4,
 "nbformat_minor": 2
}
